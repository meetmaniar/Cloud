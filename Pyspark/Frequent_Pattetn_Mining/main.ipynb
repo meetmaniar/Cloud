from pyspark.mllib.fpm import FPGrowth

data = sc.textFile("groceries.csv")
transactions = data.map(lambda line: line.strip().split(','))

model = FPGrowth.train(transactions, minSupport=0.2, numPartitions=10)
result = model.freqItemsets().collect()
for fi in result:
    print(fi)